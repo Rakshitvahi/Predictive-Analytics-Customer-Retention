{
  "nbformat": 4,
  "nbformat_minor": 0,
  "metadata": {
    "colab": {
      "provenance": [],
      "authorship_tag": "ABX9TyNtr+yqJWnIX6/TrQXJHWVt",
      "include_colab_link": true
    },
    "kernelspec": {
      "name": "python3",
      "display_name": "Python 3"
    },
    "language_info": {
      "name": "python"
    }
  },
  "cells": [
    {
      "cell_type": "markdown",
      "metadata": {
        "id": "view-in-github",
        "colab_type": "text"
      },
      "source": [
        "<a href=\"https://colab.research.google.com/github/swtguha/Churn_prediction/blob/main/Recommendation_System.ipynb\" target=\"_parent\"><img src=\"https://colab.research.google.com/assets/colab-badge.svg\" alt=\"Open In Colab\"/></a>"
      ]
    },
    {
      "cell_type": "code",
      "execution_count": 261,
      "metadata": {
        "colab": {
          "base_uri": "https://localhost:8080/"
        },
        "id": "IGgirni8e0K5",
        "outputId": "253388b3-eedb-4d69-b4cb-35d39acdae08"
      },
      "outputs": [
        {
          "output_type": "stream",
          "name": "stdout",
          "text": [
            "Drive already mounted at /content/drive; to attempt to forcibly remount, call drive.mount(\"/content/drive\", force_remount=True).\n"
          ]
        }
      ],
      "source": [
        "from google.colab import drive\n",
        "drive.mount('/content/drive')\n",
        "file_path = \"/content/drive/My Drive/ratings_small.csv\"\n",
        "file_path1 = \"/content/drive/My Drive/movies_metadata.csv\""
      ]
    },
    {
      "cell_type": "code",
      "source": [
        "# Data manipulation\n",
        "import pandas as pd\n",
        "\n",
        "# Feature extraction and similarity computation\n",
        "from sklearn.feature_extraction.text import TfidfVectorizer\n",
        "from sklearn.metrics.pairwise import linear_kernel\n",
        "\n",
        "# Numerical computation (if needed)\n",
        "import numpy as np\n",
        "\n",
        "# Visualization (optional)\n",
        "import matplotlib.pyplot as plt"
      ],
      "metadata": {
        "id": "OdAmt5HNlQWn"
      },
      "execution_count": 262,
      "outputs": []
    },
    {
      "cell_type": "code",
      "source": [
        "df1 = pd.read_csv(file_path)\n",
        "df2 = pd.read_csv(file_path1)"
      ],
      "metadata": {
        "colab": {
          "base_uri": "https://localhost:8080/"
        },
        "id": "_-M7x2zfluAk",
        "outputId": "fd3bf6a0-beda-42e9-99f2-288a0405c566"
      },
      "execution_count": 263,
      "outputs": [
        {
          "output_type": "stream",
          "name": "stderr",
          "text": [
            "<ipython-input-263-7a69ffc728dd>:2: DtypeWarning: Columns (10) have mixed types. Specify dtype option on import or set low_memory=False.\n",
            "  df2 = pd.read_csv(file_path1)\n"
          ]
        }
      ]
    },
    {
      "cell_type": "code",
      "source": [
        "#Data pre-processing for rating_small csv\n",
        "missingValues = df1.isnull().sum()\n",
        "\n",
        "# Calculate the percentage of missing values for each column\n",
        "missing_percentage = (missingValues / len(df1)) * 100\n",
        "\n",
        "# Combine missing values and percentage into a DataFrame for better readability\n",
        "missing_summary = pd.DataFrame({\n",
        "    'Missing Values': missingValues,\n",
        "    'Percentage (%)': missing_percentage\n",
        "})\n",
        "\n",
        "# Display the summary\n",
        "print(missing_summary)\n",
        "\n",
        "\n"
      ],
      "metadata": {
        "colab": {
          "base_uri": "https://localhost:8080/"
        },
        "id": "KLd9GJCynPZD",
        "outputId": "bef6c18c-e186-402a-f12f-dddd25883c7d"
      },
      "execution_count": 264,
      "outputs": [
        {
          "output_type": "stream",
          "name": "stdout",
          "text": [
            "           Missing Values  Percentage (%)\n",
            "userId                  0             0.0\n",
            "movieId                 0             0.0\n",
            "rating                  0             0.0\n",
            "timestamp               0             0.0\n"
          ]
        }
      ]
    },
    {
      "cell_type": "code",
      "source": [
        "# Identify categorical columns\n",
        "categorical_cols = df2.select_dtypes(include=['object', 'category']).columns\n",
        "\n",
        "# Identify numeric columns\n",
        "numeric_cols = df2.select_dtypes(include=['number']).columns\n",
        "\n",
        "\n",
        "\n",
        "\n",
        "# Check missing values in categorical columns\n",
        "missing_values_categorical = df2[categorical_cols].isnull().sum()\n",
        "print(\"Missing values in categorical columns:\")\n",
        "print(missing_values_categorical)"
      ],
      "metadata": {
        "colab": {
          "base_uri": "https://localhost:8080/"
        },
        "id": "SQ-7nDrZoLRE",
        "outputId": "fbc787ae-bfee-43e7-acfe-9dcc3f41dc29"
      },
      "execution_count": 265,
      "outputs": [
        {
          "output_type": "stream",
          "name": "stdout",
          "text": [
            "Missing values in categorical columns:\n",
            "adult                        0\n",
            "belongs_to_collection    40972\n",
            "budget                       0\n",
            "genres                       0\n",
            "homepage                 37684\n",
            "id                           0\n",
            "imdb_id                     17\n",
            "original_language           11\n",
            "original_title               0\n",
            "overview                   954\n",
            "popularity                   5\n",
            "poster_path                386\n",
            "production_companies         3\n",
            "production_countries         3\n",
            "release_date                87\n",
            "spoken_languages             6\n",
            "status                      87\n",
            "tagline                  25054\n",
            "title                        6\n",
            "video                        6\n",
            "dtype: int64\n"
          ]
        }
      ]
    },
    {
      "cell_type": "code",
      "source": [
        "print(df2['popularity'].dtype)\n",
        "print(df2['popularity'].head(5))"
      ],
      "metadata": {
        "colab": {
          "base_uri": "https://localhost:8080/"
        },
        "id": "1Mmy3Juv9oRB",
        "outputId": "6f77a1c0-e66f-4a81-eb2b-fc99775a08a5"
      },
      "execution_count": 266,
      "outputs": [
        {
          "output_type": "stream",
          "name": "stdout",
          "text": [
            "object\n",
            "0    21.946943\n",
            "1    17.015539\n",
            "2      11.7129\n",
            "3     3.859495\n",
            "4     8.387519\n",
            "Name: popularity, dtype: object\n"
          ]
        }
      ]
    },
    {
      "cell_type": "code",
      "source": [
        "# Convert 'popularity' to numeric, coercing errors to NaN\n",
        "df2['popularity'] = pd.to_numeric(df2['popularity'], errors='coerce')"
      ],
      "metadata": {
        "id": "cKzK7duP9_Uc"
      },
      "execution_count": 267,
      "outputs": []
    },
    {
      "cell_type": "code",
      "source": [
        "df2['belongs_to_collection'].fillna('Unknown', inplace=True)\n",
        "df2['homepage'].fillna('Unknown', inplace=True)\n",
        "df2['tagline'].fillna('Unknown', inplace=True)\n",
        "df2['overview'].fillna('No Overview', inplace=True)\n",
        "df2['poster_path'].fillna('Unknown', inplace=True)\n",
        "# Fill missing values in 'popularity' with the median value\n",
        "df2['popularity'].fillna(df2['popularity'].median(), inplace=True)\n",
        "\n",
        "# Fill missing values in production_companies and production_countries with 'Unknown'\n",
        "df2['production_companies'].fillna('Unknown', inplace=True)\n",
        "df2['production_countries'].fillna('Unknown', inplace=True)\n",
        "\n",
        "# Fill missing values in release_date with a placeholder (e.g., 'Unknown' or a default date)\n",
        "df2['release_date'].fillna('Unknown', inplace=True)\n",
        "\n",
        "# Fill missing values in spoken_languages with 'Unknown'\n",
        "df2['spoken_languages'].fillna('Unknown', inplace=True)\n",
        "\n",
        "# Fill missing values in status with 'Unknown'\n",
        "df2['status'].fillna('Unknown', inplace=True)\n",
        "\n",
        "# Fill missing values in title and video with 'Unknown'\n",
        "df2['title'].fillna('Unknown', inplace=True)\n",
        "df2['video'].fillna('Unknown', inplace=True)\n",
        "\n",
        "# Remove rows with missing values in critical columns if necessary\n",
        "df2.dropna(subset=['imdb_id', 'original_language'], inplace=True)\n"
      ],
      "metadata": {
        "id": "b99q8chVogQL"
      },
      "execution_count": 268,
      "outputs": []
    },
    {
      "cell_type": "code",
      "source": [
        "# Check missing values in categorical columns\n",
        "missing_values_categorical = df2[categorical_cols].isnull().sum()\n",
        "print(\"Missing values in categorical columns:\")\n",
        "print(missing_values_categorical)"
      ],
      "metadata": {
        "colab": {
          "base_uri": "https://localhost:8080/"
        },
        "id": "Mt-3wYkMzEGz",
        "outputId": "3e6dc4e2-8143-4625-9992-363344a22c35"
      },
      "execution_count": 269,
      "outputs": [
        {
          "output_type": "stream",
          "name": "stdout",
          "text": [
            "Missing values in categorical columns:\n",
            "adult                    0\n",
            "belongs_to_collection    0\n",
            "budget                   0\n",
            "genres                   0\n",
            "homepage                 0\n",
            "id                       0\n",
            "imdb_id                  0\n",
            "original_language        0\n",
            "original_title           0\n",
            "overview                 0\n",
            "popularity               0\n",
            "poster_path              0\n",
            "production_companies     0\n",
            "production_countries     0\n",
            "release_date             0\n",
            "spoken_languages         0\n",
            "status                   0\n",
            "tagline                  0\n",
            "title                    0\n",
            "video                    0\n",
            "dtype: int64\n"
          ]
        }
      ]
    },
    {
      "cell_type": "code",
      "source": [
        "# Sample a subset of 5000 movies\n",
        "sample_size = 5000\n",
        "df2_sampled = df2.sample(n=sample_size, random_state=42)"
      ],
      "metadata": {
        "id": "pSdxJCiyXvZu"
      },
      "execution_count": 270,
      "outputs": []
    },
    {
      "cell_type": "code",
      "source": [
        "print(df2_sampled.head(5))"
      ],
      "metadata": {
        "colab": {
          "base_uri": "https://localhost:8080/"
        },
        "id": "gNmlCwRffKBq",
        "outputId": "803ceac4-06d1-48ea-caa2-af6892507878"
      },
      "execution_count": 271,
      "outputs": [
        {
          "output_type": "stream",
          "name": "stdout",
          "text": [
            "       adult                              belongs_to_collection   budget  \\\n",
            "28294  False                                            Unknown        0   \n",
            "29916  False                                            Unknown  4000000   \n",
            "13204  False                                            Unknown  6000000   \n",
            "14384  False  {'id': 368982, 'name': 'MVP', 'poster_path': '...        0   \n",
            "18767  False                                            Unknown        0   \n",
            "\n",
            "                                                  genres  \\\n",
            "28294                     [{'id': 35, 'name': 'Comedy'}]   \n",
            "29916  [{'id': 53, 'name': 'Thriller'}, {'id': 35, 'n...   \n",
            "13204  [{'id': 18, 'name': 'Drama'}, {'id': 10749, 'n...   \n",
            "14384  [{'id': 28, 'name': 'Action'}, {'id': 12, 'nam...   \n",
            "18767  [{'id': 99, 'name': 'Documentary'}, {'id': 104...   \n",
            "\n",
            "                                                homepage      id    imdb_id  \\\n",
            "28294                                            Unknown   21585  tt0195691   \n",
            "29916  http://tickets.picturehouseentertainment.co.uk...  254320  tt3464902   \n",
            "13204                   http://www.thewrestlermovie.com/   12163  tt1125849   \n",
            "14384                                            Unknown   32834  tt0196106   \n",
            "18767                      http://www.nickdrakefilm.com/   74237  tt0264013   \n",
            "\n",
            "      original_language                                  original_title  \\\n",
            "28294                en  Robin Williams: An Evening with Robin Williams   \n",
            "29916                en                                     The Lobster   \n",
            "13204                en                                    The Wrestler   \n",
            "14384                en                      MVP: Most Valuable Primate   \n",
            "18767                en          A Skin Too Few: The Days of Nick Drake   \n",
            "\n",
            "                                                overview  ...  release_date  \\\n",
            "28294  Declared to be the funniest Robin Williams vid...  ...    1982-01-01   \n",
            "29916  In a dystopian near future, single people, acc...  ...    2015-10-08   \n",
            "13204  Aging wrestler Randy \"The Ram\" Robinson is lon...  ...    2008-09-07   \n",
            "14384  Jack is a three-year-old chimpanzee who has be...  ...    2000-08-11   \n",
            "18767  A study, mostly chronological, of the life of ...  ...    2002-04-19   \n",
            "\n",
            "          revenue runtime                                   spoken_languages  \\\n",
            "28294         0.0    82.0           [{'iso_639_1': 'en', 'name': 'English'}]   \n",
            "29916  15656193.0   118.0  [{'iso_639_1': 'en', 'name': 'English'}, {'iso...   \n",
            "13204  44703995.0   109.0           [{'iso_639_1': 'en', 'name': 'English'}]   \n",
            "14384         0.0    93.0           [{'iso_639_1': 'en', 'name': 'English'}]   \n",
            "18767         0.0    48.0           [{'iso_639_1': 'en', 'name': 'English'}]   \n",
            "\n",
            "         status                                            tagline  \\\n",
            "28294  Released                                            Unknown   \n",
            "29916  Released                    An unconventional love story...   \n",
            "13204  Released                                 Love. Pain. Glory.   \n",
            "14384  Released  Jack skates a little faster... Shoots a little...   \n",
            "18767  Released                                            Unknown   \n",
            "\n",
            "                                                title  video vote_average  \\\n",
            "28294  Robin Williams: An Evening with Robin Williams  False          7.0   \n",
            "29916                                     The Lobster  False          6.7   \n",
            "13204                                    The Wrestler  False          7.3   \n",
            "14384                      MVP: Most Valuable Primate  False          4.5   \n",
            "18767          A Skin Too Few: The Days of Nick Drake  False          7.3   \n",
            "\n",
            "      vote_count  \n",
            "28294       11.0  \n",
            "29916     1340.0  \n",
            "13204     1031.0  \n",
            "14384       12.0  \n",
            "18767        6.0  \n",
            "\n",
            "[5 rows x 24 columns]\n"
          ]
        }
      ]
    },
    {
      "cell_type": "code",
      "source": [
        "#Feature Extraction\n",
        "\n",
        "from sklearn.feature_extraction.text import TfidfVectorizer\n",
        "\n",
        "# Extract features from the overview text\n",
        "tfidf_vectorizer = TfidfVectorizer(stop_words='english')\n",
        "tfidf_matrix = tfidf_vectorizer.fit_transform(df2_sampled['overview'])\n",
        "print(tfidf_matrix.shape)"
      ],
      "metadata": {
        "colab": {
          "base_uri": "https://localhost:8080/"
        },
        "id": "jK739qR-TDMU",
        "outputId": "87a06110-6b01-40a0-acbc-0095c13f87b7"
      },
      "execution_count": 272,
      "outputs": [
        {
          "output_type": "stream",
          "name": "stdout",
          "text": [
            "(5000, 24617)\n"
          ]
        }
      ]
    },
    {
      "cell_type": "code",
      "source": [
        "\n",
        "\n",
        "# Extract genres features\n",
        "# Convert genres to a list of lists\n",
        "df2_sampled['genres'] = df2_sampled['genres'].apply(lambda x: x.split('|'))\n",
        "\n",
        "from sklearn.preprocessing import MultiLabelBinarizer\n",
        "\n",
        "mlb = MultiLabelBinarizer()\n",
        "genres_matrix = mlb.fit_transform(df2_sampled['genres'])"
      ],
      "metadata": {
        "id": "EI7n0sSGCVJ7"
      },
      "execution_count": 273,
      "outputs": []
    },
    {
      "cell_type": "code",
      "source": [
        "#Feature Combination\n",
        "\n",
        "from scipy.sparse import hstack\n",
        "\n",
        "# Combine text features and genres features\n",
        "features_matrix = hstack([tfidf_matrix, genres_matrix])"
      ],
      "metadata": {
        "id": "TN9vDm-SOL_F"
      },
      "execution_count": 274,
      "outputs": []
    },
    {
      "cell_type": "code",
      "source": [
        "#Similarity Calculation\n",
        "from sklearn.metrics.pairwise import cosine_similarity\n",
        "\n",
        "\n",
        "# Compute similarity matrix on reduced dimensions\n",
        "cosine_sim= cosine_similarity(features_matrix, features_matrix)\n",
        "print(cosine_sim.shape)"
      ],
      "metadata": {
        "colab": {
          "base_uri": "https://localhost:8080/"
        },
        "id": "MRUf-sloRm-b",
        "outputId": "7fd1e5d4-d08e-4f51-9073-f35ceb511d65"
      },
      "execution_count": 275,
      "outputs": [
        {
          "output_type": "stream",
          "name": "stdout",
          "text": [
            "(5000, 5000)\n"
          ]
        }
      ]
    },
    {
      "cell_type": "code",
      "source": [
        "print(\"Columns in df2_sampled:\", df2_sampled.columns)"
      ],
      "metadata": {
        "colab": {
          "base_uri": "https://localhost:8080/"
        },
        "id": "vU2mj12-kbei",
        "outputId": "141b501b-fb06-4d7c-d526-4c7beb7d35a1"
      },
      "execution_count": 276,
      "outputs": [
        {
          "output_type": "stream",
          "name": "stdout",
          "text": [
            "Columns in df2_sampled: Index(['adult', 'belongs_to_collection', 'budget', 'genres', 'homepage', 'id',\n",
            "       'imdb_id', 'original_language', 'original_title', 'overview',\n",
            "       'popularity', 'poster_path', 'production_companies',\n",
            "       'production_countries', 'release_date', 'revenue', 'runtime',\n",
            "       'spoken_languages', 'status', 'tagline', 'title', 'video',\n",
            "       'vote_average', 'vote_count'],\n",
            "      dtype='object')\n"
          ]
        }
      ]
    },
    {
      "cell_type": "code",
      "source": [
        "def get_movie_id_from_title(title, df2_sampled):\n",
        "    \"\"\"\n",
        "    Get the movie index for a given movie title.\n",
        "\n",
        "    Parameters:\n",
        "    - title: Title of the movie\n",
        "    - df2_sampled: DataFrame containing the sampled movies\n",
        "\n",
        "    Returns:\n",
        "    - Index of the movie if found, else None\n",
        "    \"\"\"\n",
        "    if 'original_title' not in df2_sampled.columns:\n",
        "        raise KeyError(\"The column 'original_title' is not in df2_sampled\")\n",
        "\n",
        "    movie_row = df2_sampled.loc[df2_sampled['original_title'] == title]\n",
        "    if not movie_row.empty:\n",
        "        return movie_row.index[0]\n",
        "    else:\n",
        "        return None"
      ],
      "metadata": {
        "id": "zg-Hji1uj-Ys"
      },
      "execution_count": 277,
      "outputs": []
    },
    {
      "cell_type": "code",
      "source": [
        "def get_recommendations_by_title(title, df2_sampled, cosine_sim, top_n=10):\n",
        "    \"\"\"\n",
        "    Get top N movie recommendations based on cosine similarity using movie title.\n",
        "\n",
        "    Parameters:\n",
        "    - title: Title of the movie for which recommendations are to be generated\n",
        "    - df2_sampled: DataFrame containing the sampled movies\n",
        "    - cosine_sim: Cosine similarity matrix\n",
        "    - top_n: Number of top recommendations to return\n",
        "\n",
        "    Returns:\n",
        "    - DataFrame with recommended movies\n",
        "    \"\"\"\n",
        "    if 'original_title' not in df2_sampled.columns or 'genres' not in df2_sampled.columns:\n",
        "        raise KeyError(\"One or both of the columns 'original_title' and 'genres' are not in df2_sampled\")\n",
        "\n",
        "    idx = get_movie_id_from_title(title, df2_sampled)\n",
        "\n",
        "    if idx is None:\n",
        "        print(f\"Movie '{title}' not found in the dataset.\")\n",
        "        return pd.DataFrame()\n",
        "\n",
        "    # Validate index\n",
        "    if idx >= cosine_sim.shape[0]:\n",
        "        print(f\"Index {idx} is out of bounds for the similarity matrix with size {cosine_sim.shape[0]}.\")\n",
        "        return pd.DataFrame()\n",
        "\n",
        "    # Get similarity scores for the movie\n",
        "    sim_scores = list(enumerate(cosine_sim[idx]))\n",
        "\n",
        "    # Sort movies based on similarity scores and get the top N similar movies\n",
        "    sim_scores = sorted(sim_scores, key=lambda x: x[1], reverse=True)\n",
        "    sim_scores = sim_scores[1:top_n+1]  # Exclude the movie itself and get top N\n",
        "\n",
        "    # Get movie indices from similarity scores\n",
        "    movie_indices = [i[0] for i in sim_scores]\n",
        "\n",
        "    # Check if indices are within bounds\n",
        "    valid_indices = [i for i in movie_indices if i < cosine_sim.shape[0]]\n",
        "    if not valid_indices:\n",
        "        print(\"No valid movie indices found for recommendations.\")\n",
        "        return pd.DataFrame()\n",
        "\n",
        "    # Return the top N most similar movies\n",
        "    return df2_sampled.iloc[valid_indices][['original_title', 'genres']]\n",
        "\n",
        "# Example usage\n",
        "movie_title_example = 'The Lobster'  # Ensure this title exists in df2_sampled\n",
        "recommended_movies = get_recommendations_by_title(movie_title_example, df2_sampled, cosine_sim)\n",
        "print(recommended_movies)\n",
        "print(df2_sampled.index)\n",
        "print(cosine_sim.shape)"
      ],
      "metadata": {
        "colab": {
          "base_uri": "https://localhost:8080/"
        },
        "id": "3cT3wELZkD2m",
        "outputId": "f172d376-c882-40fd-c7a0-a1688b1c6780"
      },
      "execution_count": 281,
      "outputs": [
        {
          "output_type": "stream",
          "name": "stdout",
          "text": [
            "Index 29916 is out of bounds for the similarity matrix with size 5000.\n",
            "Empty DataFrame\n",
            "Columns: []\n",
            "Index: []\n",
            "Index([28294, 29916, 13204, 14384, 18767, 44128,  5264, 44642, 33051, 21888,\n",
            "       ...\n",
            "       17864, 39466, 37206, 42518, 11643,  6231, 27454, 17031, 39684, 26184],\n",
            "      dtype='int64', length=5000)\n",
            "(5000, 5000)\n"
          ]
        }
      ]
    },
    {
      "cell_type": "code",
      "source": [
        "def get_movie_id_from_title(title, df2_sampled):\n",
        "    \"\"\"\n",
        "    Get the movie ID for a given movie title.\n",
        "\n",
        "    Parameters:\n",
        "    - title: Title of the movie\n",
        "    - df_sampled: DataFrame containing the sampled movies\n",
        "\n",
        "    Returns:\n",
        "    - Movie ID if found, else None\n",
        "    \"\"\"\n",
        "     # Use .loc for more robust index-based lookup\n",
        "    movie_row = df2_sampled.loc[df2_sampled['original_title'] == title]\n",
        "    if not movie_row.empty:\n",
        "        return movie_row.index[0]\n",
        "    else:\n",
        "        return None"
      ],
      "metadata": {
        "id": "Y0QWVSofdD5N"
      },
      "execution_count": 207,
      "outputs": []
    },
    {
      "cell_type": "code",
      "source": [
        "def get_recommendations_by_title(title, df_sampled, cosine_sim, top_n=10):\n",
        "\n",
        "    idx = get_movie_id_from_title(title, df2_sampled)\n",
        "    if idx is None:\n",
        "        print(f\"Movie '{title}' not found in the dataset.\") # Print message if movie not found\n",
        "        return pd.DataFrame()  # Return empty DataFrame if title not found\n",
        "\n",
        "\n",
        "    # Get similarity scores for the movie\n",
        "    sim_scores = list(enumerate(cosine_sim[idx]))\n",
        "\n",
        "    # Sort movies based on similarity scores and get the top N similar movies\n",
        "    sim_scores = sorted(sim_scores, key=lambda x: x[1], reverse=True)\n",
        "    sim_scores = sim_scores[1:top_n+1]  # Exclude the movie itself and get top N\n",
        "\n",
        "    # Get movie indices from similarity scores\n",
        "    movie_indices = [i[0] for i in sim_scores]\n",
        "\n",
        "    # Return the top N most similar movies\n",
        "    return df2_sampled.iloc[movie_indices]\n",
        "\n",
        "# Ensure you are using a movie title present in df2_sampled\n",
        "#movie_title_example = df2_sampled.iloc[10]['title'] # Example: Selecting the title of the 10th movie\n",
        "movie_title_example = 'The Lobster'\n",
        "recommended_movies = get_recommendations_by_title(movie_title_example, df2_sampled, cosine_sim)\n",
        "print(recommended_movies[['title', 'genres']])"
      ],
      "metadata": {
        "colab": {
          "base_uri": "https://localhost:8080/",
          "height": 315
        },
        "id": "IKVJZWcCdNg3",
        "outputId": "076693a4-9060-479c-fd00-569f997ae20e"
      },
      "execution_count": 209,
      "outputs": [
        {
          "output_type": "error",
          "ename": "IndexError",
          "evalue": "index 29916 is out of bounds for axis 0 with size 5000",
          "traceback": [
            "\u001b[0;31m---------------------------------------------------------------------------\u001b[0m",
            "\u001b[0;31mIndexError\u001b[0m                                Traceback (most recent call last)",
            "\u001b[0;32m<ipython-input-209-891c822b0eca>\u001b[0m in \u001b[0;36m<cell line: 25>\u001b[0;34m()\u001b[0m\n\u001b[1;32m     23\u001b[0m \u001b[0;31m#movie_title_example = df2_sampled.iloc[10]['title'] # Example: Selecting the title of the 10th movie\u001b[0m\u001b[0;34m\u001b[0m\u001b[0;34m\u001b[0m\u001b[0m\n\u001b[1;32m     24\u001b[0m \u001b[0mmovie_title_example\u001b[0m \u001b[0;34m=\u001b[0m \u001b[0;34m'The Lobster'\u001b[0m\u001b[0;34m\u001b[0m\u001b[0;34m\u001b[0m\u001b[0m\n\u001b[0;32m---> 25\u001b[0;31m \u001b[0mrecommended_movies\u001b[0m \u001b[0;34m=\u001b[0m \u001b[0mget_recommendations_by_title\u001b[0m\u001b[0;34m(\u001b[0m\u001b[0mmovie_title_example\u001b[0m\u001b[0;34m,\u001b[0m \u001b[0mdf2_sampled\u001b[0m\u001b[0;34m,\u001b[0m \u001b[0mcosine_sim\u001b[0m\u001b[0;34m)\u001b[0m\u001b[0;34m\u001b[0m\u001b[0;34m\u001b[0m\u001b[0m\n\u001b[0m\u001b[1;32m     26\u001b[0m \u001b[0mprint\u001b[0m\u001b[0;34m(\u001b[0m\u001b[0mrecommended_movies\u001b[0m\u001b[0;34m[\u001b[0m\u001b[0;34m[\u001b[0m\u001b[0;34m'title'\u001b[0m\u001b[0;34m,\u001b[0m \u001b[0;34m'genres'\u001b[0m\u001b[0;34m]\u001b[0m\u001b[0;34m]\u001b[0m\u001b[0;34m)\u001b[0m\u001b[0;34m\u001b[0m\u001b[0;34m\u001b[0m\u001b[0m\n",
            "\u001b[0;32m<ipython-input-209-891c822b0eca>\u001b[0m in \u001b[0;36mget_recommendations_by_title\u001b[0;34m(title, df_sampled, cosine_sim, top_n)\u001b[0m\n\u001b[1;32m      8\u001b[0m \u001b[0;34m\u001b[0m\u001b[0m\n\u001b[1;32m      9\u001b[0m     \u001b[0;31m# Get similarity scores for the movie\u001b[0m\u001b[0;34m\u001b[0m\u001b[0;34m\u001b[0m\u001b[0m\n\u001b[0;32m---> 10\u001b[0;31m     \u001b[0msim_scores\u001b[0m \u001b[0;34m=\u001b[0m \u001b[0mlist\u001b[0m\u001b[0;34m(\u001b[0m\u001b[0menumerate\u001b[0m\u001b[0;34m(\u001b[0m\u001b[0mcosine_sim\u001b[0m\u001b[0;34m[\u001b[0m\u001b[0midx\u001b[0m\u001b[0;34m]\u001b[0m\u001b[0;34m)\u001b[0m\u001b[0;34m)\u001b[0m\u001b[0;34m\u001b[0m\u001b[0;34m\u001b[0m\u001b[0m\n\u001b[0m\u001b[1;32m     11\u001b[0m \u001b[0;34m\u001b[0m\u001b[0m\n\u001b[1;32m     12\u001b[0m     \u001b[0;31m# Sort movies based on similarity scores and get the top N similar movies\u001b[0m\u001b[0;34m\u001b[0m\u001b[0;34m\u001b[0m\u001b[0m\n",
            "\u001b[0;31mIndexError\u001b[0m: index 29916 is out of bounds for axis 0 with size 5000"
          ]
        }
      ]
    },
    {
      "cell_type": "code",
      "source": [],
      "metadata": {
        "id": "vGOTU1_bdf5v"
      },
      "execution_count": null,
      "outputs": []
    }
  ]
}